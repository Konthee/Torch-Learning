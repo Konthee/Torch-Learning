{
 "cells": [
  {
   "attachments": {},
   "cell_type": "markdown",
   "metadata": {},
   "source": [
    "1) Design model (input, output size, forward pass) \n",
    "2) Construct loss and optimizer\n",
    "3) Training loop \n",
    "- forward pass : compute prediction \n",
    "- backeard pass : gradients \n",
    "- update weights"
   ]
  },
  {
   "cell_type": "code",
   "execution_count": 1,
   "metadata": {},
   "outputs": [
    {
     "name": "stdout",
     "output_type": "stream",
     "text": [
      "epoch : 10, loss = 4298.1382\n",
      "epoch : 20, loss = 3210.1057\n",
      "epoch : 30, loss = 2422.3748\n",
      "epoch : 40, loss = 1851.4775\n",
      "epoch : 50, loss = 1437.3361\n",
      "epoch : 60, loss = 1136.6462\n",
      "epoch : 70, loss = 918.1524\n",
      "epoch : 80, loss = 759.2684\n",
      "epoch : 90, loss = 643.6523\n",
      "epoch : 100, loss = 559.4684\n"
     ]
    },
    {
     "data": {
      "image/png": "[encoded data removed]",
      "text/plain": [
       "<Figure size 432x288 with 1 Axes>"
      ]
     },
     "metadata": {
      "needs_background": "light"
     },
     "output_type": "display_data"
    }
   ],
   "source": [
    "import torch \n",
    "import torch.nn as nn \n",
    "import numpy as np\n",
    "from sklearn import datasets\n",
    "import matplotlib.pyplot as plt \n",
    "\n",
    "# 0) prepare data \n",
    "X_numpy , y_numpy = datasets.make_regression(n_samples=100, n_features=1, noise=20, random_state=1)\n",
    "\n",
    "X=torch.from_numpy(X_numpy.astype(np.float32))\n",
    "y=torch.from_numpy(y_numpy.astype(np.float32))\n",
    "y= y.view(y.shape[0],1)\n",
    "\n",
    "n_samples, n_features = X.shape\n",
    "# 1) model\n",
    "input_size =n_features\n",
    "output_size= 1\n",
    "model = nn.Linear(input_size ,output_size)\n",
    "\n",
    "# 2) loss and optimizer \n",
    "learning_rate = 0.01\n",
    "criterion = nn.MSELoss()\n",
    "optimizer= torch.optim.SGD(model.parameters(),lr=learning_rate)\n",
    "\n",
    "\n",
    "# 3) training loop \n",
    "num_epochs = 100\n",
    "for epoch in range(num_epochs) :\n",
    "    #forward pass and loss\n",
    "    y_predicted = model(X)\n",
    "    loss = criterion(y_predicted,y)\n",
    "\n",
    "    # backward pass\n",
    "    loss.backward()\n",
    "\n",
    "    #update \n",
    "    optimizer.step()\n",
    "    optimizer.zero_grad()\n",
    "\n",
    "    if (epoch+1)% 10 ==0 :\n",
    "        print(f'epoch : {epoch+1}, loss = {loss.item():.4f}')\n",
    "\n",
    "#plot\n",
    "predicted = model(X).detach().numpy()\n",
    "plt.plot(X_numpy,y_numpy,'ro')\n",
    "plt.plot(X_numpy,predicted,'b')\n",
    "plt.show()\n"
   ]
  },
  {
   "cell_type": "code",
   "execution_count": null,
   "metadata": {},
   "outputs": [],
   "source": []
  }
 ],
 "metadata": {
  "kernelspec": {
   "display_name": "Python 3",
   "language": "python",
   "name": "python3"
  },
  "language_info": {
   "codemirror_mode": {
    "name": "ipython",
    "version": 3
   },
   "file_extension": ".py",
   "mimetype": "text/x-python",
   "name": "python",
   "nbconvert_exporter": "python",
   "pygments_lexer": "ipython3",
   "version": "3.9.8 (tags/v3.9.8:bb3fdcf, Nov  5 2021, 20:48:33) [MSC v.1929 64 bit (AMD64)]"
  },
  "orig_nbformat": 4,
  "vscode": {
   "interpreter": {
    "hash": "14958d3aee5f1cad06795f787e54b96185c25fb40dfec723a5be941f3a531b8c"
   }
  }
 },
 "nbformat": 4,
 "nbformat_minor": 2
}
