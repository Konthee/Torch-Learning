{
 "cells": [
  {
   "attachments": {},
   "cell_type": "markdown",
   "metadata": {},
   "source": [
    "1) Design model (input, output size, forward pass) \n",
    "2) Construct loss and optimizer\n",
    "3) Training loop \n",
    "- forward pass : compute prediction \n",
    "- backeard pass : gradients \n",
    "- update weights"
   ]
  },
  {
   "cell_type": "code",
   "execution_count": 22,
   "metadata": {},
   "outputs": [
    {
     "name": "stdout",
     "output_type": "stream",
     "text": [
      "epoch : 100,loss = 0.2520\n",
      "epoch : 200,loss = 0.1779\n",
      "epoch : 300,loss = 0.1460\n",
      "epoch : 400,loss = 0.1278\n",
      "epoch : 500,loss = 0.1158\n",
      "epoch : 600,loss = 0.1071\n",
      "epoch : 700,loss = 0.1006\n",
      "epoch : 800,loss = 0.0953\n",
      "epoch : 900,loss = 0.0910\n",
      "epoch : 1000,loss = 0.0875\n",
      "accuracy = 0.9386\n"
     ]
    }
   ],
   "source": [
    "import torch \n",
    "import torch.nn as nn \n",
    "import numpy as np\n",
    "from sklearn import datasets\n",
    "from sklearn.preprocessing import StandardScaler\n",
    "from sklearn.model_selection import train_test_split\n",
    "\n",
    "# 0) prepare data \n",
    "bc = datasets.load_breast_cancer()\n",
    "X,y = bc.data , bc.target \n",
    "\n",
    "n_sample,n_features = X.shape\n",
    "\n",
    "X_train,X_test,y_train,y_test = train_test_split(X,y,test_size=0.2, random_state=1234)\n",
    "#scale \n",
    "sc = StandardScaler()\n",
    "X_train = sc.fit_transform(X_train)\n",
    "X_test = sc.transform(X_test)\n",
    "\n",
    "X_train =torch.from_numpy(X_train.astype(np.float32))\n",
    "X_test =torch.from_numpy(X_test.astype(np.float32))\n",
    "y_train =torch.from_numpy(y_train.astype(np.float32))\n",
    "y_test =torch.from_numpy(y_test.astype(np.float32))\n",
    "\n",
    "y_train= y_train.view(y_train.shape[0],1)\n",
    "y_test= y_test.view(y_test.shape[0],1)\n",
    "\n",
    "# 1) model \n",
    "# f = wx+b , sigmoid at the end \n",
    "\n",
    "class LogisticRegression(nn.Module) :\n",
    "\n",
    "    def __init__(self,n_input_features):\n",
    "        super(LogisticRegression,self).__init__()\n",
    "        self.linear = nn.Linear(n_input_features,1)\n",
    "    \n",
    "    def forward(self,x):\n",
    "        y_predicted = torch.sigmoid(self.linear(x))\n",
    "        return y_predicted\n",
    "\n",
    "model = LogisticRegression(n_features)\n",
    "\n",
    "# 2) loss and optimizer \n",
    "learning_rate = 0.01\n",
    "criterion = nn.BCELoss()\n",
    "optimizer = torch.optim.SGD(model.parameters(),lr=learning_rate)\n",
    "\n",
    "#3) training loop \n",
    "num_epochs = 1000\n",
    "for epoch in range(num_epochs):\n",
    "    # forward pass and losss\n",
    "    y_predicted = model(X_train)\n",
    "    loss = criterion(y_predicted,y_train)\n",
    "\n",
    "    # backward pass\n",
    "    loss.backward()\n",
    "    # updates\n",
    "    optimizer.step()\n",
    "    #Zero gradient\n",
    "    optimizer.zero_grad()\n",
    "\n",
    "    if (epoch+1) %100 == 0 :\n",
    "        print(f'epoch : {epoch+1},loss = {loss.item():.4f}')\n",
    "\n",
    "with torch.no_grad():\n",
    "    y_predicted = model(X_test)\n",
    "    y_predicted_cls = y_predicted.round()\n",
    "    acc = y_predicted_cls.eq(y_test).sum() / float(y_test.shape[0])\n",
    "    print(f'accuracy = {acc:.4f}')\n"
   ]
  },
  {
   "cell_type": "code",
   "execution_count": null,
   "metadata": {},
   "outputs": [],
   "source": []
  }
 ],
 "metadata": {
  "kernelspec": {
   "display_name": "Python 3",
   "language": "python",
   "name": "python3"
  },
  "language_info": {
   "codemirror_mode": {
    "name": "ipython",
    "version": 3
   },
   "file_extension": ".py",
   "mimetype": "text/x-python",
   "name": "python",
   "nbconvert_exporter": "python",
   "pygments_lexer": "ipython3",
   "version": "3.9.8 (tags/v3.9.8:bb3fdcf, Nov  5 2021, 20:48:33) [MSC v.1929 64 bit (AMD64)]"
  },
  "orig_nbformat": 4,
  "vscode": {
   "interpreter": {
    "hash": "14958d3aee5f1cad06795f787e54b96185c25fb40dfec723a5be941f3a531b8c"
   }
  }
 },
 "nbformat": 4,
 "nbformat_minor": 2
}
