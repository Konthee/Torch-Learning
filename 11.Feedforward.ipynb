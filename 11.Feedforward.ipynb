{
 "cells": [
  {
   "attachments": {},
   "cell_type": "markdown",
   "metadata": {},
   "source": [
    "### Requriment\n",
    "-MNIST\n",
    "\n",
    "-DATAloader, Transformation\n",
    "\n",
    "-Multilayer Neural Net, Activation Function\n",
    "\n",
    "-Loss and Optimoizer \n",
    "\n",
    "-Training loop (batch training)\n",
    "\n",
    "-Model evaluation \n",
    "\n",
    "-GPU support "
   ]
  },
  {
   "cell_type": "code",
   "execution_count": 48,
   "metadata": {},
   "outputs": [],
   "source": [
    "import torch \n",
    "import torch.nn as nn \n",
    "import torchvision\n",
    "import torchvision.transforms as transforms\n",
    "import matplotlib.pyplot as plt \n",
    "\n",
    "#device cofig \n",
    "device =torch.device('cuda' if torch.cuda.is_available() else 'cpu')\n",
    "\n",
    "#hyper parameter \n",
    "input_size =784 # 28X28 \n",
    "hidden_size =100 \n",
    "num_classes = 10 \n",
    "num_epochs = 10 \n",
    "batch_size = 100\n",
    "learning_rate = 0.001 \n",
    "\n",
    "#MNIST \n",
    "train_dataset = torchvision.datasets.MNIST(root='./data', train=True,\n",
    "    transform=transforms.ToTensor(),download =True)\n",
    "\n",
    "test_dataset = torchvision.datasets.MNIST(root='./data', train=False,\n",
    "    transform=transforms.ToTensor(),download =True)\n",
    "\n",
    "train_loader = torch.utils.data.DataLoader(dataset=train_dataset,\n",
    "                                            batch_size = batch_size,\n",
    "                                            shuffle=True)\n",
    "test_loader = torch.utils.data.DataLoader(dataset=test_dataset,\n",
    "                                            batch_size = batch_size,\n",
    "                                            shuffle=True)    \n",
    "\n",
    "                       "
   ]
  },
  {
   "cell_type": "code",
   "execution_count": 49,
   "metadata": {},
   "outputs": [
    {
     "name": "stdout",
     "output_type": "stream",
     "text": [
      "torch.Size([100, 1, 28, 28]) torch.Size([100])\n"
     ]
    },
    {
     "data": {
      "image/png": "[encoded data removed]",
      "text/plain": [
       "<Figure size 432x288 with 6 Axes>"
      ]
     },
     "metadata": {
      "needs_background": "light"
     },
     "output_type": "display_data"
    }
   ],
   "source": [
    "examples = iter(train_loader)\n",
    "sample,labels = examples.next()\n",
    "print(sample.shape, labels.shape)\n",
    "                                    \n",
    "for i in range(6): \n",
    "    plt.subplot(2,3,i+1)\n",
    "    plt.imshow(sample[i][0],cmap='gray')\n",
    "    plt.title(labels[i].item(),c='r')\n",
    "    plt.axis('off')\n",
    "plt.show()"
   ]
  },
  {
   "cell_type": "code",
   "execution_count": 50,
   "metadata": {},
   "outputs": [
    {
     "data": {
      "text/plain": [
       "device(type='cuda')"
      ]
     },
     "execution_count": 50,
     "metadata": {},
     "output_type": "execute_result"
    }
   ],
   "source": [
    "device"
   ]
  },
  {
   "cell_type": "code",
   "execution_count": 51,
   "metadata": {},
   "outputs": [
    {
     "name": "stdout",
     "output_type": "stream",
     "text": [
      "epoch 1/10, step 100/600, loss = 0.5727\n",
      "epoch 1/10, step 200/600, loss = 0.3143\n",
      "epoch 1/10, step 300/600, loss = 0.2456\n",
      "epoch 1/10, step 400/600, loss = 0.2419\n",
      "epoch 1/10, step 500/600, loss = 0.4149\n",
      "epoch 1/10, step 600/600, loss = 0.2327\n",
      "epoch 2/10, step 100/600, loss = 0.1276\n",
      "epoch 2/10, step 200/600, loss = 0.1111\n",
      "epoch 2/10, step 300/600, loss = 0.2065\n",
      "epoch 2/10, step 400/600, loss = 0.0882\n",
      "epoch 2/10, step 500/600, loss = 0.1349\n",
      "epoch 2/10, step 600/600, loss = 0.0904\n",
      "epoch 3/10, step 100/600, loss = 0.1470\n",
      "epoch 3/10, step 200/600, loss = 0.1758\n",
      "epoch 3/10, step 300/600, loss = 0.1272\n",
      "epoch 3/10, step 400/600, loss = 0.1002\n",
      "epoch 3/10, step 500/600, loss = 0.2321\n",
      "epoch 3/10, step 600/600, loss = 0.1714\n",
      "epoch 4/10, step 100/600, loss = 0.0700\n",
      "epoch 4/10, step 200/600, loss = 0.1052\n",
      "epoch 4/10, step 300/600, loss = 0.0942\n",
      "epoch 4/10, step 400/600, loss = 0.0892\n",
      "epoch 4/10, step 500/600, loss = 0.2087\n",
      "epoch 4/10, step 600/600, loss = 0.1043\n",
      "epoch 5/10, step 100/600, loss = 0.0414\n",
      "epoch 5/10, step 200/600, loss = 0.0776\n",
      "epoch 5/10, step 300/600, loss = 0.1265\n",
      "epoch 5/10, step 400/600, loss = 0.1299\n",
      "epoch 5/10, step 500/600, loss = 0.0578\n",
      "epoch 5/10, step 600/600, loss = 0.1799\n",
      "epoch 6/10, step 100/600, loss = 0.0846\n",
      "epoch 6/10, step 200/600, loss = 0.1476\n",
      "epoch 6/10, step 300/600, loss = 0.0637\n",
      "epoch 6/10, step 400/600, loss = 0.0538\n",
      "epoch 6/10, step 500/600, loss = 0.0761\n",
      "epoch 6/10, step 600/600, loss = 0.0353\n",
      "epoch 7/10, step 100/600, loss = 0.0832\n",
      "epoch 7/10, step 200/600, loss = 0.0460\n",
      "epoch 7/10, step 300/600, loss = 0.0459\n",
      "epoch 7/10, step 400/600, loss = 0.1130\n",
      "epoch 7/10, step 500/600, loss = 0.0138\n",
      "epoch 7/10, step 600/600, loss = 0.0377\n",
      "epoch 8/10, step 100/600, loss = 0.0466\n",
      "epoch 8/10, step 200/600, loss = 0.0387\n",
      "epoch 8/10, step 300/600, loss = 0.0338\n",
      "epoch 8/10, step 400/600, loss = 0.0258\n",
      "epoch 8/10, step 500/600, loss = 0.0406\n",
      "epoch 8/10, step 600/600, loss = 0.0993\n",
      "epoch 9/10, step 100/600, loss = 0.1113\n",
      "epoch 9/10, step 200/600, loss = 0.0232\n",
      "epoch 9/10, step 300/600, loss = 0.0398\n",
      "epoch 9/10, step 400/600, loss = 0.0540\n",
      "epoch 9/10, step 500/600, loss = 0.0414\n",
      "epoch 9/10, step 600/600, loss = 0.0245\n",
      "epoch 10/10, step 100/600, loss = 0.0080\n",
      "epoch 10/10, step 200/600, loss = 0.0184\n",
      "epoch 10/10, step 300/600, loss = 0.0743\n",
      "epoch 10/10, step 400/600, loss = 0.0411\n",
      "epoch 10/10, step 500/600, loss = 0.0429\n",
      "epoch 10/10, step 600/600, loss = 0.0246\n"
     ]
    }
   ],
   "source": [
    "class NeuralNet(nn.Module):\n",
    "    def __init__(self,input_size,hidden_size,num_classes):\n",
    "        super(NeuralNet,self).__init__()\n",
    "        self.l1 = nn.Linear(input_size,hidden_size)\n",
    "        self.relu = nn.ReLU()\n",
    "        self.l2 = nn.Linear(hidden_size,num_classes)\n",
    "    def forward(self,x):\n",
    "        out =self.l1(x)\n",
    "        out =self.relu(out)\n",
    "        out =self.l2(out)\n",
    "        return out \n",
    "\n",
    "model = NeuralNet(input_size,hidden_size,num_classes).to(device)\n",
    "\n",
    "# loss and optimizer \n",
    "criterion = nn.CrossEntropyLoss()\n",
    "optimizer = torch.optim.Adam(model.parameters(),lr=learning_rate)\n",
    "\n",
    "# training loop \n",
    "n_total_steps = len(train_loader)\n",
    "\n",
    "for epoch in range(num_epochs):\n",
    "    for i, (images,labels) in enumerate(train_loader) :\n",
    "        # 100,1,28,28\n",
    "        # 100, 784\n",
    "        images = images.reshape(-1,28*28).to(device)\n",
    "        labels = labels.to(device)\n",
    "\n",
    "        # forward \n",
    "        outputs = model(images)\n",
    "        loss = criterion(outputs, labels)\n",
    "\n",
    "        # backward \n",
    "        optimizer.zero_grad()\n",
    "        loss.backward()\n",
    "        optimizer.step()\n",
    "\n",
    "        if (i+1) % 100 == 0 :\n",
    "            print(f'epoch {epoch+1}/{num_epochs}, step {i+1}/{n_total_steps}, loss = {loss.item():.4f}')\n",
    "    \n",
    "\n"
   ]
  },
  {
   "cell_type": "code",
   "execution_count": 52,
   "metadata": {},
   "outputs": [
    {
     "name": "stdout",
     "output_type": "stream",
     "text": [
      "accuracy = 97.79\n"
     ]
    }
   ],
   "source": [
    "# test \n",
    "with torch.no_grad() :\n",
    "    n_correct = 0 \n",
    "    n_samples = 0 \n",
    "    for images, labels in test_loader:\n",
    "        images = images.reshape(-1,28*28).to(device)\n",
    "        labels = labels.to(device)\n",
    "        outputs = model(images)\n",
    "\n",
    "        #value, index\n",
    "        _,prediction = torch.max(outputs,1)\n",
    "        n_samples += labels.shape[0]\n",
    "        n_correct += (prediction == labels).sum().item() \n",
    "    \n",
    "    acc = 100.0 * n_correct /n_samples\n",
    "    print(f'accuracy = {acc}')\n"
   ]
  },
  {
   "cell_type": "code",
   "execution_count": null,
   "metadata": {},
   "outputs": [],
   "source": []
  }
 ],
 "metadata": {
  "kernelspec": {
   "display_name": "Python 3",
   "language": "python",
   "name": "python3"
  },
  "language_info": {
   "codemirror_mode": {
    "name": "ipython",
    "version": 3
   },
   "file_extension": ".py",
   "mimetype": "text/x-python",
   "name": "python",
   "nbconvert_exporter": "python",
   "pygments_lexer": "ipython3",
   "version": "3.9.8"
  },
  "orig_nbformat": 4,
  "vscode": {
   "interpreter": {
    "hash": "14958d3aee5f1cad06795f787e54b96185c25fb40dfec723a5be941f3a531b8c"
   }
  }
 },
 "nbformat": 4,
 "nbformat_minor": 2
}
